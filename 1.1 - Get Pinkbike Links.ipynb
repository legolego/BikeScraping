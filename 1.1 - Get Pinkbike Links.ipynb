{
 "cells": [
  {
   "cell_type": "code",
   "execution_count": 1,
   "metadata": {},
   "outputs": [
    {
     "name": "stdout",
     "output_type": "stream",
     "text": [
      "Utils.py is loaded\n",
      "Utils.py is loaded\n"
     ]
    }
   ],
   "source": [
    "\n",
    "import importlib\n",
    "import Utils\n",
    "importlib.reload(Utils)  # This will print \"Utils.py is loaded\" again\n",
    "import json"
   ]
  },
  {
   "cell_type": "code",
   "execution_count": 2,
   "metadata": {},
   "outputs": [
    {
     "name": "stdout",
     "output_type": "stream",
     "text": [
      "Ignoring link: https://www.pinkbike.com/news/photo-report-crankworx-rotorua-slopestyle-in-memory-of-mcgazza-2025.html?trk=rss\n",
      "Ignoring title link: https://www.pinkbike.com/news/new-courses-new-challenges-crankworx-rotorua-ends-with-a-bang-setting-the-stage-for-2025.html\n",
      "Ignoring link: https://www.pinkbike.com/news/video-downhill-bike-checks-with-ed-masters-at-crankworx-rotorua-2025.html?trk=rss\n",
      "Ignoring link: https://www.pinkbike.com/news/photo-report-crankworx-rotorua-pump-track-challenge-2025.html?trk=rss\n",
      "Ignoring title link: https://www.pinkbike.com/news/patricia-druwen-and-tim-bringer-dominate-as-slopestyle-world-championship-kicks-off-in-rotorua.html\n",
      "Ignoring link: https://www.pinkbike.com/news/video-louise-ferguson-and-mille-johnsets-2025-crankworx-rotorua-dh-course-preview.html?trk=rss\n",
      "Ignoring title link: https://www.pinkbike.com/news/video-louise-ferguson-and-mille-johnsets-2025-crankworx-rotorua-dh-course-preview.html?trk=rss\n",
      "Ignoring link: https://www.pinkbike.com/news/video-raw-dh-goodness-with-canadian-up-and-comer-ryder-wilson-at-mt-prevost.html?trk=rss\n",
      "Ignoring link: https://www.pinkbike.com/news/video-alex-volkohov-takes-on-big-mountain-lines-in-bcs-rugged-backcountry.html?trk=rss\n",
      "Ignoring title link: https://www.pinkbike.com/news/results-pump-track-crankworx-rotorua-2025.html\n",
      "Ignoring link: https://www.pinkbike.com/news/video-full-send-the-dna-of-kavenz.html?trk=rss\n",
      "Ignoring link: https://www.pinkbike.com/news/video-race-the-world--episode-1--the-absa-cape-epic.html?trk=rss\n",
      "Ignoring link: https://www.pinkbike.com/news/video-raw-dh-goodness-with-canadian-up-and-comer-ryder-wilson-at-mt-prevost.html\n",
      "Ignoring link: https://www.pinkbike.com/news/video-raw-dh-goodness-with-canadian-up-and-comer-ryder-wilson-at-mt-prevost.html\n",
      "Ignoring link: https://www.pinkbike.com/news/photo-report-crankworx-rotorua-official-new-zealand-whip-off-championships-2025.html\n",
      "Ignoring link: https://www.pinkbike.com/news/photo-report-crankworx-rotorua-official-new-zealand-whip-off-championships-2025.html\n",
      "Ignoring link: https://www.pinkbike.com/news/video-dan-and-gee-atherton-test-the-s200-on-home-soil.html\n",
      "Ignoring link: https://www.pinkbike.com/news/video-dan-and-gee-atherton-test-the-s200-on-home-soil.html\n",
      "Ignoring link: https://www.pinkbike.com/news/video-effortless-dh-bike-style-from-spain-in-home-is-where-you-dig-it.html\n",
      "Ignoring link: https://www.pinkbike.com/news/video-effortless-dh-bike-style-from-spain-in-home-is-where-you-dig-it.html\n",
      "Ignoring link: https://www.pinkbike.com/news/video-drop-in-star-dylan-tremblay-rides-a-100-vintage-bike-like-its-2003.html\n",
      "Ignoring link: https://www.pinkbike.com/news/video-drop-in-star-dylan-tremblay-rides-a-100-vintage-bike-like-its-2003.html\n",
      "Ignoring link: https://www.pinkbike.com/news/video-transition-staffer-rips-moody-bellingham-trails-in-repeater-raw.html\n",
      "Ignoring link: https://www.pinkbike.com/news/video-transition-staffer-rips-moody-bellingham-trails-in-repeater-raw.html\n",
      "Ignoring link: https://www.pinkbike.com/news/video-joe-connell-surfs-his-bike-through-some-fine-scottish-dirt-in-full-on.html\n",
      "Ignoring link: https://www.pinkbike.com/news/video-joe-connell-surfs-his-bike-through-some-fine-scottish-dirt-in-full-on.html\n",
      "Ignoring link: https://www.pinkbike.com/news/video-george-ryan-tears-up-mountain-creek-bike-park-in-park-rat.html\n",
      "Ignoring link: https://www.pinkbike.com/news/video-george-ryan-tears-up-mountain-creek-bike-park-in-park-rat.html\n",
      "Ignoring link: https://www.pinkbike.com/news/photo-epic-crankworx-summer-series-christchurch-pump-track-challenge-2025.html\n",
      "Ignoring link: https://www.pinkbike.com/news/photo-epic-crankworx-summer-series-christchurch-pump-track-challenge-2025.html\n",
      "Ignoring link: https://www.pinkbike.com/news/video-taj-mehilich-and-the-fairdale-crew-ride-rays-indoor-bike-park.html\n",
      "Ignoring link: https://www.pinkbike.com/news/video-taj-mehilich-and-the-fairdale-crew-ride-rays-indoor-bike-park.html\n",
      "Ignoring link: https://www.pinkbike.com/news/video-transition-bikes-staff-escape-the-winter-for-all-time-oceania-riding-trip.html\n",
      "Ignoring link: https://www.pinkbike.com/news/video-transition-bikes-staff-escape-the-winter-for-all-time-oceania-riding-trip.html\n",
      "Ignoring link: https://www.pinkbike.com/news/video-yt-mobs-dakoda-osusky-shreds-wild-freeride-lines-in-utah.html\n",
      "Ignoring link: https://www.pinkbike.com/news/video-yt-mobs-dakoda-osusky-shreds-wild-freeride-lines-in-utah.html\n",
      "Ignoring link: https://www.pinkbike.com/news/video-bruni-and-vergier-ride-the-brand-new-la-thuile-dh-track.html\n",
      "Ignoring link: https://www.pinkbike.com/news/video-bruni-and-vergier-ride-the-brand-new-la-thuile-dh-track.html\n",
      "Ignoring link: https://www.pinkbike.com/news/photo-epic-seeding-red-bull-hardline-tasmania-2025.html\n",
      "Ignoring link: https://www.pinkbike.com/news/photo-epic-seeding-red-bull-hardline-tasmania-2025.html\n",
      "Ignoring link: https://www.pinkbike.com/news/video-winter-shredding-at-glassie-bike-park-with-corey-watson.html\n",
      "Ignoring link: https://www.pinkbike.com/news/video-winter-shredding-at-glassie-bike-park-with-corey-watson.html\n",
      "Ignoring link: https://www.pinkbike.com/news/photo-epic-practice-red-bull-hardline-tasmania-2025.html\n",
      "Ignoring link: https://www.pinkbike.com/news/photo-epic-practice-red-bull-hardline-tasmania-2025.html\n",
      "Ignoring link: https://www.pinkbike.com/news/video-darcy-coutts-rips-maydena-bike-park-from-sunup-to-sundown.html\n",
      "Ignoring link: https://www.pinkbike.com/news/video-darcy-coutts-rips-maydena-bike-park-from-sunup-to-sundown.html\n",
      "Ignoring link: https://www.pinkbike.com/news/video-jamie-cooper-ellis-turns-his-familys-maple-farm-into-a-bike-playground-in-loam-lines.html\n",
      "Ignoring link: https://www.pinkbike.com/news/video-jamie-cooper-ellis-turns-his-familys-maple-farm-into-a-bike-playground-in-loam-lines.html\n",
      "Ignoring link: https://www.pinkbike.com/news/video-eliot-jackson-rips-the-guitar-and-bike-in-his-ode-to-la.html\n",
      "Ignoring link: https://www.pinkbike.com/news/video-eliot-jackson-rips-the-guitar-and-bike-in-his-ode-to-la.html\n",
      "Ignoring link: https://www.pinkbike.com/news/video-carson-storch-blends-his-passions-for-off-roading-and-mountain-biking-in-otherside.html\n",
      "Ignoring link: https://www.pinkbike.com/news/video-carson-storch-blends-his-passions-for-off-roading-and-mountain-biking-in-otherside.html\n",
      "Ignoring link: https://www.pinkbike.com/news/video-through-the-stages-story-of-the-squamish-enduro.html\n",
      "Ignoring link: https://www.pinkbike.com/news/video-through-the-stages-story-of-the-squamish-enduro.html\n",
      "Ignoring link: https://www.pinkbike.com/news/video-matt-jones-and-sam-reynolds-prove-that-their-supercars-are-perfect-for-a-mtb-roadtrip.html\n",
      "Ignoring link: https://www.pinkbike.com/news/video-matt-jones-and-sam-reynolds-prove-that-their-supercars-are-perfect-for-a-mtb-roadtrip.html\n",
      "Ignoring link: https://www.pinkbike.com/news/video--antoine-bizet-sends-it-at-todo-o-nada-and-is-given-spirit-award-.html\n",
      "Ignoring link: https://www.pinkbike.com/news/video--antoine-bizet-sends-it-at-todo-o-nada-and-is-given-spirit-award-.html\n",
      "Ignoring link: https://www.pinkbike.com/news/video-a-bunch-of-idiots.html\n",
      "Ignoring link: https://www.pinkbike.com/news/video-a-bunch-of-idiots.html\n",
      "Ignoring link: https://www.pinkbike.com/news/video-edr-rider-and-reigning-german-champion-raphaela-richter-joins-crossworx.html\n",
      "Ignoring link: https://www.pinkbike.com/news/video-edr-rider-and-reigning-german-champion-raphaela-richter-joins-crossworx.html\n",
      "Ignoring link: https://www.pinkbike.com/news/video-matt-macduff-and-the-harrison-brothers-ride-vancouvers-north-shore-bike-park-in-transfer.html\n",
      "Ignoring link: https://www.pinkbike.com/news/video-matt-macduff-and-the-harrison-brothers-ride-vancouvers-north-shore-bike-park-in-transfer.html\n",
      "Ignoring link: https://www.pinkbike.com/news/video-remy-morton-is-smooth-and-stylish-in-mildly-bunged-up.html\n",
      "Ignoring link: https://www.pinkbike.com/news/video-remy-morton-is-smooth-and-stylish-in-mildly-bunged-up.html\n",
      "Ignoring link: https://www.pinkbike.com/news/video-what-i-call-art-at-highland-mountain-bike-park.html\n",
      "Ignoring link: https://www.pinkbike.com/news/video-what-i-call-art-at-highland-mountain-bike-park.html\n",
      "Ignoring link: https://www.pinkbike.com/news/video-scooter-rider-going-huge-on-fist-full-of-dollars-pro-line-in-kamloops.html\n",
      "Ignoring link: https://www.pinkbike.com/news/video-scooter-rider-going-huge-on-fist-full-of-dollars-pro-line-in-kamloops.html\n",
      "Ignoring link: https://www.pinkbike.com/news/video-attempting-the-kokopelli-and-white-rim-trails-in-a-single-310-mile-ride-with-25000-feet-of-climbing.html\n",
      "Ignoring link: https://www.pinkbike.com/news/video-attempting-the-kokopelli-and-white-rim-trails-in-a-single-310-mile-ride-with-25000-feet-of-climbing.html\n",
      "Ignoring link: https://www.pinkbike.com/news/video-dusty-summer-laps-in-kamloops-bc.html\n",
      "Ignoring link: https://www.pinkbike.com/news/video-dusty-summer-laps-in-kamloops-bc.html\n",
      "Ignoring link: https://www.pinkbike.com/news/video-and-race-report-eastern-states-cup-stans-enduro-11-monteau-nh.html\n",
      "Ignoring link: https://www.pinkbike.com/news/video-and-race-report-eastern-states-cup-stans-enduro-11-monteau-nh.html\n"
     ]
    }
   ],
   "source": [
    "url_pbrss = 'https://www.pinkbike.com/pinkbike_xml_feed.php'\n",
    "pbrss_links = Utils.get_pinkbike_article_links_list_from_rss(url_pbrss)\n",
    "\n",
    "url_tf = 'https://www.trailforks.com/articles/'\n",
    "pbtf_links = Utils.get_pinkbike_article_links_list_from_trailforks(url_tf)\n",
    "\n",
    "pb_pred2025 = \"https://www.pinkbike.com/news/dario-digiulios-2025-predictions.html\"\n",
    "pbtf_links.append(pb_pred2025)\n",
    "\n",
    "real_links = list(set(pbrss_links + pbtf_links))\n",
    "\n",
    "\n",
    "links = ['https://www.pinkbike.com/news/review-industry-nine-hydra-2-870-points-of-engagement-and-increased-durability.html?trk=rss',\n",
    "'https://www.pinkbike.com/news/first-ride-rovals-control-world-cup-wheelset-uses-carbon-spokes-and-weighs-only-991-grams.html?trk=rss',\n",
    "'https://www.pinkbike.com/news/review-vorsprung-telum-coil-shock.html?trk=rss', 'https://www.pinkbike.com/news/first-ride-race-face-turbine-flat-pedals.html?trk=rss']"
   ]
  },
  {
   "cell_type": "code",
   "execution_count": 3,
   "metadata": {},
   "outputs": [
    {
     "data": {
      "text/plain": [
       "62"
      ]
     },
     "execution_count": 3,
     "metadata": {},
     "output_type": "execute_result"
    }
   ],
   "source": [
    "len(real_links)"
   ]
  },
  {
   "cell_type": "code",
   "execution_count": 4,
   "metadata": {},
   "outputs": [],
   "source": [
    "# save list to json on disk\n",
    "with open('data/1.real_links.json', 'w') as f:\n",
    "    json.dump(real_links, f)"
   ]
  }
 ],
 "metadata": {
  "kernelspec": {
   "display_name": ".venv",
   "language": "python",
   "name": "python3"
  },
  "language_info": {
   "codemirror_mode": {
    "name": "ipython",
    "version": 3
   },
   "file_extension": ".py",
   "mimetype": "text/x-python",
   "name": "python",
   "nbconvert_exporter": "python",
   "pygments_lexer": "ipython3",
   "version": "3.12.4"
  }
 },
 "nbformat": 4,
 "nbformat_minor": 2
}
