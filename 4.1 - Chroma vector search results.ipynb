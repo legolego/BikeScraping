{
 "cells": [
  {
   "cell_type": "code",
   "execution_count": 11,
   "metadata": {},
   "outputs": [
    {
     "name": "stdout",
     "output_type": "stream",
     "text": [
      "Utils.py is loaded\n",
      "resource module not available on Windows\n"
     ]
    }
   ],
   "source": [
    "import importlib\n",
    "import Utils\n",
    "importlib.reload(Utils)  # This will print \"Utils.py is loaded\" again\n",
    "\n",
    "import chromadb\n",
    "from chromadb.config import DEFAULT_TENANT, DEFAULT_DATABASE, Settings\n",
    "\n",
    "import bm25s\n",
    "import Stemmer  # optional: for stemming"
   ]
  },
  {
   "cell_type": "code",
   "execution_count": 2,
   "metadata": {},
   "outputs": [],
   "source": [
    "client = chromadb.PersistentClient(\n",
    "    path=\"db\",\n",
    "    settings=Settings(),\n",
    "    tenant=DEFAULT_TENANT,\n",
    "    database=DEFAULT_DATABASE,\n",
    ")"
   ]
  },
  {
   "cell_type": "code",
   "execution_count": 3,
   "metadata": {},
   "outputs": [],
   "source": [
    "import chromadb.utils.embedding_functions as embedding_functions\n",
    "\n",
    "# Can use SentenceTransformer to get embeddings for sentences\n",
    "# https://docs.trychroma.com/docs/embeddings/embedding-functions\n",
    "# 3 as of 3/7/2025: \"intfloat/multilingual-e5-large-instruct\", but only 514 Max tokens!!!!\n",
    "# https://huggingface.co/spaces/mteb/leaderboard\n",
    "# https://huggingface.co/intfloat/multilingual-e5-large-instruct\n",
    "\n",
    "sentence_transformer_ef = embedding_functions.SentenceTransformerEmbeddingFunction(\n",
    "    model_name=\"intfloat/multilingual-e5-large-instruct\"\n",
    ")"
   ]
  },
  {
   "cell_type": "code",
   "execution_count": 4,
   "metadata": {},
   "outputs": [],
   "source": [
    "collection_name = \"Pinkbike_articles\"\n",
    "collection = client.get_or_create_collection(name=collection_name,embedding_function=sentence_transformer_ef)"
   ]
  },
  {
   "cell_type": "code",
   "execution_count": 10,
   "metadata": {},
   "outputs": [],
   "source": [
    "corpus = collection.get()['documents']"
   ]
  },
  {
   "cell_type": "code",
   "execution_count": 12,
   "metadata": {},
   "outputs": [
    {
     "data": {
      "application/vnd.jupyter.widget-view+json": {
       "model_id": "718639bfc5d340e8be3600928e439628",
       "version_major": 2,
       "version_minor": 0
      },
      "text/plain": [
       "Split strings:   0%|          | 0/55 [00:00<?, ?it/s]"
      ]
     },
     "metadata": {},
     "output_type": "display_data"
    },
    {
     "data": {
      "application/vnd.jupyter.widget-view+json": {
       "model_id": "48318d8d2f2147b48253b5540ef2305b",
       "version_major": 2,
       "version_minor": 0
      },
      "text/plain": [
       "Stem Tokens:   0%|          | 0/55 [00:00<?, ?it/s]"
      ]
     },
     "metadata": {},
     "output_type": "display_data"
    },
    {
     "data": {
      "application/vnd.jupyter.widget-view+json": {
       "model_id": "5f8f9d63fba8406babe6ba7a60cc4579",
       "version_major": 2,
       "version_minor": 0
      },
      "text/plain": [
       "BM25S Count Tokens:   0%|          | 0/55 [00:00<?, ?it/s]"
      ]
     },
     "metadata": {},
     "output_type": "display_data"
    },
    {
     "data": {
      "application/vnd.jupyter.widget-view+json": {
       "model_id": "088d132d8cda49f4b6f4fa744e52adbb",
       "version_major": 2,
       "version_minor": 0
      },
      "text/plain": [
       "BM25S Compute Scores:   0%|          | 0/55 [00:00<?, ?it/s]"
      ]
     },
     "metadata": {},
     "output_type": "display_data"
    }
   ],
   "source": [
    "# optional: create a stemmer\n",
    "stemmer = Stemmer.Stemmer(\"english\")\n",
    "\n",
    "# Tokenize the corpus and only keep the ids (faster and saves memory)\n",
    "corpus_tokens = bm25s.tokenize(corpus, stopwords=\"en\", stemmer=stemmer)\n",
    "\n",
    "# Create the BM25 model and index the corpus\n",
    "retriever = bm25s.BM25()\n",
    "retriever.index(corpus_tokens)"
   ]
  },
  {
   "cell_type": "code",
   "execution_count": 21,
   "metadata": {},
   "outputs": [
    {
     "data": {
      "application/vnd.jupyter.widget-view+json": {
       "model_id": "60e5b8fd9bd24aaeabe4bbe3a04e3d58",
       "version_major": 2,
       "version_minor": 0
      },
      "text/plain": [
       "Split strings:   0%|          | 0/1 [00:00<?, ?it/s]"
      ]
     },
     "metadata": {},
     "output_type": "display_data"
    },
    {
     "data": {
      "application/vnd.jupyter.widget-view+json": {
       "model_id": "86cd043cff6b4970bc9754b0bf0c5440",
       "version_major": 2,
       "version_minor": 0
      },
      "text/plain": [
       "Stem Tokens:   0%|          | 0/1 [00:00<?, ?it/s]"
      ]
     },
     "metadata": {},
     "output_type": "display_data"
    },
    {
     "data": {
      "application/vnd.jupyter.widget-view+json": {
       "model_id": "690cce6e772c4e868a10b44127ab1538",
       "version_major": 2,
       "version_minor": 0
      },
      "text/plain": [
       "BM25S Retrieve:   0%|          | 0/1 [00:00<?, ?it/s]"
      ]
     },
     "metadata": {},
     "output_type": "display_data"
    },
    {
     "name": "stdout",
     "output_type": "stream",
     "text": [
      "Rank 1 (score: 2.11): 24: Dario DiGiulio's 2025 Predictions: Behold, the vis\n",
      "Rank 2 (score: 1.11): 4: Crankworx Announces Details for 2025 Cairns Festiv\n",
      "Rank 3 (score: 1.11): 16: Reframing MTB Announces 2025 Bristol Conference Da\n",
      "Rank 4 (score: 1.08): 51: Crankworx Cairns Announces New Events for 2025: PR\n",
      "Rank 5 (score: 1.04): 11: Malverns Classic Returns in 2025 With New Sponsors\n"
     ]
    }
   ],
   "source": [
    "# Query the corpus\n",
    "query = \"2025 predictions for mountain biking\"\n",
    "query_tokens = bm25s.tokenize(query, stemmer=stemmer)\n",
    "\n",
    "# Get top-k results as a tuple of (doc ids, scores). Both are arrays of shape (n_queries, k).\n",
    "# To return docs instead of IDs, set the `corpus=corpus` parameter.\n",
    "results_bm25s, scores = retriever.retrieve(query_tokens, k=5)\n",
    "\n",
    "for i in range(results_bm25s.shape[1]):\n",
    "    doc, score = results_bm25s[0, i], scores[0, i]\n",
    "    print(f\"Rank {i+1} (score: {score:.2f}): {doc}: {corpus[doc][:50]}\")"
   ]
  },
  {
   "cell_type": "code",
   "execution_count": 22,
   "metadata": {},
   "outputs": [
    {
     "data": {
      "text/plain": [
       "array([[24,  4, 16, 51, 11]], dtype=int32)"
      ]
     },
     "execution_count": 22,
     "metadata": {},
     "output_type": "execute_result"
    }
   ],
   "source": [
    "results_bm25s"
   ]
  },
  {
   "cell_type": "code",
   "execution_count": 24,
   "metadata": {},
   "outputs": [
    {
     "data": {
      "text/plain": [
       "'8a5f5655ccd86e15bd8d63675203425dd5332601ad5ea3aa5ed05043eb00644d'"
      ]
     },
     "execution_count": 24,
     "metadata": {},
     "output_type": "execute_result"
    }
   ],
   "source": [
    "Utils.generate_sha256_id(corpus[24])\n"
   ]
  },
  {
   "cell_type": "code",
   "execution_count": 23,
   "metadata": {},
   "outputs": [
    {
     "name": "stdout",
     "output_type": "stream",
     "text": [
      "([('Document1', 0.03252247488101534), ('Document5', 0.032266458495966696), ('Document2', 0.032266458495966696), ('Document3', 0.03225806451612903), ('Document4', 0.015873015873015872), ('Document7', 0.015625)], ['Document1', 'Document5', 'Document2', 'Document3', 'Document4', 'Document7'])\n"
     ]
    }
   ],
   "source": [
    "# https://gist.github.com/srcecde/eec6c5dda268f9a58473e1c14735c7bb\n",
    "\n",
    "from collections import defaultdict\n",
    "def reciprocal_rank_fusion(*list_of_list_ranks_system, K=60):\n",
    "    \"\"\"\n",
    "    Fuse rank from multiple IR systems using Reciprocal Rank Fusion.\n",
    "    \n",
    "    Args:\n",
    "    * list_of_list_ranks_system: Ranked results from different IR system.\n",
    "    K (int): A constant used in the RRF formula (default is 60).\n",
    "    \n",
    "    Returns:\n",
    "    Tuple of list of sorted documents by score and sorted documents\n",
    "    \"\"\"\n",
    "    # Dictionary to store RRF mapping\n",
    "    rrf_map = defaultdict(float)\n",
    "\n",
    "    # Calculate RRF score for each result in each list\n",
    "    for rank_list in list_of_list_ranks_system:\n",
    "        for rank, item in enumerate(rank_list, 1):\n",
    "            rrf_map[item] += 1 / (rank + K)\n",
    "\n",
    "    # Sort items based on their RRF scores in descending order\n",
    "    sorted_items = sorted(rrf_map.items(), key=lambda x: x[1], reverse=True)\n",
    "\n",
    "    # Return tuple of list of sorted documents by score and sorted documents\n",
    "    return sorted_items, [item for item, score in sorted_items]\n",
    "\n",
    "\n",
    "# Example ranked lists from different sources\n",
    "ir_system_a = ['Document1', 'Document3', 'Document5', 'Document7']\n",
    "ir_system_b = ['Document2', 'Document1', 'Document4']\n",
    "ir_system_c = ['Document5', 'Document3', 'Document2']\n",
    "\n",
    "# Combine the lists using RRF\n",
    "combined_list = reciprocal_rank_fusion(ir_system_a, ir_system_b, ir_system_c)\n",
    "print(combined_list)"
   ]
  },
  {
   "cell_type": "code",
   "execution_count": null,
   "metadata": {},
   "outputs": [],
   "source": [
    "query = \"2025 predictions for mountain biking\"\n"
   ]
  }
 ],
 "metadata": {
  "kernelspec": {
   "display_name": ".venv",
   "language": "python",
   "name": "python3"
  },
  "language_info": {
   "codemirror_mode": {
    "name": "ipython",
    "version": 3
   },
   "file_extension": ".py",
   "mimetype": "text/x-python",
   "name": "python",
   "nbconvert_exporter": "python",
   "pygments_lexer": "ipython3",
   "version": "3.12.4"
  }
 },
 "nbformat": 4,
 "nbformat_minor": 2
}
