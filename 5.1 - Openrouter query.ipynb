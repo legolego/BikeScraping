{
 "cells": [
  {
   "cell_type": "code",
   "execution_count": 2,
   "metadata": {},
   "outputs": [],
   "source": [
    "from openai import OpenAI\n",
    "import json\n",
    "import os"
   ]
  },
  {
   "cell_type": "code",
   "execution_count": 3,
   "metadata": {},
   "outputs": [
    {
     "name": "stdout",
     "output_type": "stream",
     "text": [
      "None\n"
     ]
    }
   ],
   "source": [
    "API_KEY = os.environ.get('OPENROUTER_API_KEY')\n",
    "print(API_KEY)"
   ]
  },
  {
   "cell_type": "code",
   "execution_count": null,
   "metadata": {},
   "outputs": [
    {
     "name": "stdout",
     "output_type": "stream",
     "text": [
      "The meaning of life is a profound and deeply personal question that has been explored through various lenses, including philosophy, religion, science, and individual experience. Here's a synthesis of these perspectives:\n",
      "\n",
      "### 1. **Philosophical Perspectives**\n",
      "   - **Existentialism**: Philosophers like Jean-Paul Sartre and Albert Camus argue that life has no inherent meaning; humans are \"condemned to be free\" to create their own purpose. Camus' concept of the \"absurd\" suggests embracing life's lack of inherent meaning while striving to find personal significance.\n",
      "   - **Absurdism**: Camus also proposed that despite life's meaninglessness, one can find joy and purpose in embracing the human quest for meaning itself.\n",
      "   - **Viktor Frankl's Logotherapy**: Frankl, a Holocaust survivor, emphasized that meaning can be found even in suffering through personal growth, love, or contributing to others' lives.\n",
      "\n",
      "### 2. **Religious and Spiritual Views**\n",
      "   - Many religions posit that life's purpose is tied to a divine plan or connection to a higher power. For example:\n",
      "     - **Christianity/Islam/Judaism**: Following God's will and moral codes.\n",
      "     - **Buddhism**: Achieving enlightenment (Nirvana) by overcoming suffering and attachment.\n",
      "     - **Hinduism**: Progressing through reincarnation (samsara) toward spiritual liberation (moksha).\n",
      "\n",
      "### 3. **Scientific and Biological Insights**\n",
      "   - From an evolutionary standpoint, survival and reproduction are primary \"goals,\" but humans' consciousness allows for more complex motivations.\n",
      "   - Neuroscientific and psychological studies highlight that meaning is often tied to relationships, creativity, and the pursuit of goals that align with personal values.\n",
      "\n",
      "### 4. **Cultural and Personal Perspectives**\n",
      "   - **Cultural Influences**: In collectivist cultures, meaning may stem from community and tradition, while individualistic societies often prioritize personal achievement and autonomy.\n",
      "   - **Individual Experiences**: People find meaning in relationships, careers, art, service, spirituality, or hobbies. It can also arise from overcoming challenges or leaving a legacy.\n",
      "\n",
      "### 5. **The Search Itself as Meaning**\n",
      "   - The act of seeking meaning might be as vital as any answer. As Rainer Maria Rilke wrote, \"Live the questions now,\" suggesting that the journey of inquiry is part of life's purpose.\n",
      "\n",
      "### Conclusion: A Subjective Journey\n",
      "Ultimately, the meaning of life is **not a universal truth but a deeply personal exploration**. While frameworks like philosophy, religion, or science offer insights, individuals must define their own purpose through reflection, action, and connection. Whether through love, creativity, contribution, or spiritual growth, the search for meaning enriches the human experience, making the journey itself meaningful. As the poet Kahlil Gibran noted, \"Your life is your meaning.\"\n"
     ]
    }
   ],
   "source": [
    "# https://openrouter.ai/deepseek/deepseek-r1:free/api\n",
    "# https://openrouter.ai/deepseek/deepseek-r1:free/api/v1/engines/deepseek-r1/completions\n",
    "\n",
    "\n",
    "client = OpenAI(\n",
    "  base_url=\"https://openrouter.ai/api/v1\",\n",
    "  api_key=\"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\",\n",
    ")\n",
    "\n",
    "completion = client.chat.completions.create(\n",
    "  \n",
    "  extra_body={},\n",
    "  model=\"qwen/qwq-32b:free\",\n",
    "  messages=[\n",
    "    {\n",
    "      \"role\": \"user\",\n",
    "      \"content\": \"What is the meaning of life?\"\n",
    "    }\n",
    "  ]\n",
    ")\n",
    "print(completion.choices[0].message.content)"
   ]
  },
  {
   "cell_type": "code",
   "execution_count": 7,
   "metadata": {},
   "outputs": [
    {
     "data": {
      "text/plain": [
       "[\"Race Report: A Big Night at the Crankworx Rotorua Pump Track Challenge: The Crankworx Rotorua Pump Track Challenge lit up Skyline Rotorua as fans packed into the arena under the night sky. The energy in the crowd was electric, especially as Kiwi athletes took to the track in this chainless head-to-head showdown. No stranger to the Crankworx World Tour Jackson Frew won his first ever Pump Track gold medal, while his female counterpart Laura Smulders is a brand-new face to the Crankworx family. As Round 2 of the 2025 Crankworx Pump Track Series, the stakes were high, with riders pushing their limits on the technical and fast course. In the women’s final, Dutch racers Manon Veenstra and Laura Smulders battled to the wire. Smulders edged out her fellow Dutchie Veenstra in a nail-biting finish, winning gold by just 0.007 seconds. The small final saw New Zealand’s Sacha Earnest go head-to-head against reigning Pump Track World Champion and winner of the Crankworx Summer Series Christchurch Pump Track event, Sabina Košárková of the Czech Republic. Košárková took the bronze, cementing her leading position in the 2025 Pump Track Series standings. On the men’s side, Jackson Frew, the 2024 King of Crankworx runner-up, clinched his first-ever Crankworx Pump Track gold medal. The Australian racer delivered a flawless performance in the finals, outpacing local hero and former King of Crankworx Tuhoto-Ariki Pene. Despite clocking the fastest run of the event earlier in the night, Pene finished 0.067 seconds behind Frew in the finals, settling for silver. The bronze medal match featured Kiwi speedster Tyler Waite and Aussie Bailey Meares, who was returning to competition after an extended injury break last year. Meares managed to edge out Waite by +0.106 seconds in a nail-biting second run. A significant upset came in the quarterfinals when Australian rider Ryan Gilchrist, the defending King of Crankworx and winner of Round 1 of the 2025 Pump Track Series, crashed out, allowing his teammate Tyler Waite to advance. Crankworx Rotorua Pump Track Challenge – Women's Top 5: 1. Laura Smulders (NED) 2. Manon Veenstra (NED) 3. Sabina Košárková (CZE) 4. Sacha Earnest (NZL) 5. Caroline Buchanan (AUS) Crankworx Rotorua Pump Track Challenge – Men’s Top 5: 1. Jackson Frew (AUS) 2. Tuhoto-Ariki Pene (NZL) 3. Bailey Meares (AUS) 4. Tyler Waite (NZL) 5. Ryan Gilchrist (AUS) Full results here . With two rounds complete, the battle for the 2025 Crankworx Pump Track Champion title is heating up. Today’s second place pushed Tuhoto-Ariki Pene into the top spot of the leaderboard, surpassing long-term rival Ryan Gilchrist. Sabina Košárková defended her placement from Crankworx Summer Series Christchurch, followed by Jordy Scott who . Catch up on the full breakdown of standings online . Looking Ahead: The Final Days of Crankworx Rotorua With the Pump Track Challenge now in the books, all eyes turn to the remaining events of the Crankworx Rotorua festival: • Maxxis Slopestyle in Memory of McGazza : Moved to Saturday at 8:45 AM NZDT due to weather conditions. • RockShox Kārearea Downhill : Group A finals begin at 12:45 PM NZDT, with top riders broadcast live on Red Bull TV at 3:15 PM NZDT. • Specialized Dual Slalom Rotorua : The festival’s closing event on Sunday, with Elite finals at 4:00 PM NZDT. Keep an eye on the up-to-date schedule online and follow @crankworx and @crankworxrotorua for behind-the scenes action. Catch all key finals on Red Bull TV .\",\n",
       " 'Rotorua to Host First Round of UCI Pump Track World Championship Qualifiers: PRESS RELEASE: Graeme Simpson Photo: Dan Butterworth by Graeme Murray. The road to the Velosolutions UCI Pump Track World Championships in Switzerland in September will start in Rotorua, New Zealand on March 1. It’s a passion project for local Craig Pattle, a former world-class downhiller, still riding and now building pump tracks around his home country, Australia and Asia with Velosolutions NZ , including the venue for the initial quallie round. This track at the Waipa MTB trailhead was the product of a committed drive by the local community and years of hard work to get funding. Red Stag Timber donated the site...thanks, Paul Laing. Great friends of ours, Clair Scott from the Rotorua Trails Trust and Jude Eade helped with the process and Rotorua Trust, ONE Foundation, NZCT, Grass Roots and Grass Roots Central and TAB NZ came to the party.[/QUOTE] Video: bluedog media To have an international meet like this in our own backyard on a track we built...well, it’s a dream come true. There’s also age group racing so locals can meet their heroes and have a crack,\\xa0too. — Craig\\xa0Pattle The March 1 event is supported by New Zealand Community Trust, a friend of the Rotorua bike community for over 20 years. Entry is open ONLINE and on the day. This isn’t the first international event on a local Velosolutions track. Craig, Nigel Robinson and the VNZ team also built the nearby Te Papa o te Kauri, Rotorua BMX’s magnificent venue, which hosted the first two rounds of the 2024 BMX World Cup. This week, it was voted 2024 ‘Event of the Year’ by the international BMX community. PHOTO: Action from the 2024 Velosolutions UCI Pump Track World Champs in South Africa. Dan Griffiths/@moonhead_media The second Pump Track qualifying round will be in the United States and then around the globe from China to Europe,  Armenia to Nepal.  In 2024, the world’s best pump track riders descended upon KwaMashu, a vibrant township on Durban’s north coast, to battle for top honours. After fiercely competitive events in both the Men’s and Women’s categories, Ryan Gilchrist from Australia and Sabina Košárková from Czechia showcased exceptional speed and determination to claim the coveted rainbow stripes. And for Sabina, a shoey on the podium. PHOTOS: Dan Griffiths/@moonhead_media A true celebration of world-class riding and community unity, it set the stage for an even bigger 2025 season. With an incredible line-up of 20 qualifiers leading to the grand finale - the 2025 UCI World Championships in Manthey, Switzerland, on Friday, 5 September - this year’s series promises excitement at every turn. New destinations join the qualifiers this year, bringing fresh energy to the series. Armenia and Nepal, will host qualifiers for the first time on Pump for Peace tracks, continuing the mission to make cycling accessible to all.  The USA steps up with three qualifiers, including a long-awaited stop on the West Coast. The United Kingdom, UAE, Sweden and Portugal also make a welcome return to the calendar, ensuring an even broader global reach for the competition. Hosting round one will add to Rotorua’s unique history as a world-class venue with the UCI Mountain Bike and Trials World Champs in 2006, the final round of the 2009 UCI Trials World Cup, two Singlespeed World Champs in 2010 and 2017, rounds of the Enduro World Series and Crankworx. UCI Pump Track Worlds 2025: • 1 March – Rotorua, New Zealand • 15–16 March – Corcoran, California, USA • 12 April – Stellenbosch, South Africa • 12 April – Kathmandu, Nepal • 19 April – Masdar City, Abu Dhabi, UAE • 26–27 April – Sugar Land, Texas, USA • 3 May – Shenyang (Liaoning), China • 3 May – Erie, Colorado, USA • 17 May – Redhead Beach, Lake Macquarie, Australia • 17 May – Arubal, Spain • 1 June – Huainan (Anhui), China • 7 June – Sicamous (BC), Canada • 7 June – Košice, Slovakia • 15 June – Chopwell, United Kingdom • 21 June – Einsiedeln, Switzerland • 28 June – Leuven, Belgium • 5 July – Loureira, Portugal • 9 August – Ängelholm, Sweden • 9–10 August – Vanadzor, Armenia • TBC – Aigle, Switzerland • 5 September - The Finale, Monthey, Switzerland']"
      ]
     },
     "execution_count": 7,
     "metadata": {},
     "output_type": "execute_result"
    }
   ],
   "source": [
    "rrf_results = []\n",
    "# read real-links list from json\n",
    "with open('data/3.RRF_results.json', 'r') as f:\n",
    "    rrf_results = json.load(f)\n",
    "rrf_results[:2]"
   ]
  },
  {
   "cell_type": "code",
   "execution_count": null,
   "metadata": {},
   "outputs": [
    {
     "name": "stdout",
     "output_type": "stream",
     "text": [
      "The Crankworx Rotorua Pump Track Challenge report is highly relevant to mountain biking for several key reasons:\n",
      "\n",
      "### 1. **Part of the Crankworx World Tour Series**  \n",
      "   - The event is Round 2 of the **2025 Crankworx Pump Track Series**, a prestigious competition that determines the year’s champion. Results directly impact standings, creating a high-stakes narrative for athletes vying for the title.\n",
      "\n",
      "### 2. **Showcases Elite Competitors and Emerging Talent**  \n",
      "   - **Jackson Frew** (Australia) secured his first Pump Track gold, marking a career milestone.  \n",
      "   - **Laura Smulders** (Netherlands), a newcomer to Crankworx, triumphed in a photo finish (winning by **0.007 seconds**), highlighting her potential as rising talent.  \n",
      "   - **Sabina Košárková** (Czech Republic) defended her position in the series, reinforcing her status as a dominant force.  \n",
      "\n",
      "### 3. **Competitive Drama and Upsets**  \n",
      "   - **Ryan Gilchrist** (Australia), the defending King of Crankworx and Round 1 winner, crashed out in the quarterfinals, an upset that reshaped the series standings.  \n",
      "   - **Tuhoto-Ariki Pene** (New Zealand) moved to the top of the overall leaderboard after finishing second, underscoring the tight competition.  \n",
      "\n",
      "### 4. **Technical Skill and Course Demands**  \n",
      "   - The pump track’s **technical and fast layout** tests riders’ precision, speed, and endurance—core skills in mountain biking. Close finishes (e.g., Smulders’ 0.007-second margin) emphasize the sport’s high skill threshold.  \n",
      "\n",
      "### 5. **National and Regional Pride**  \n",
      "   - New Zealand and Australian riders dominated the podiums, reflecting regional rivalries and training strengths. Local hero Pene’s silver and Kiwi Tyler Waite’s bronze added a national pride angle.  \n",
      "\n",
      "### 6. **Connection to Broader Crankworx Festival**  \n",
      "   - The Pump Track Challenge is part of Crankworx Rotorua’s lineup, which includes other disciplines like **Downhill**, **Slopestyle**, and **Dual Slalom**. This showcases mountain biking’s diversity and attracts global attention.  \n",
      "\n",
      "### 7. **Media and Fan Engagement**  \n",
      "   - Live broadcasts on **Red Bull TV** and social media updates (@crankworx) amplify the event’s reach, engaging fans worldwide and promoting the sport.  \n",
      "   - Weather delays (e.g., Slopestyle rescheduled) illustrate the unpredictable, outdoor nature of mountain biking, resonating with athletes and audiences alike.  \n",
      "\n",
      "### 8. **Impact on Season Standings**  \n",
      "   - With two rounds complete, the report tracks the evolving battle for the 2025 Pump Track title, keeping fans invested in future events. Jordy Scott and others’ positions add intrigue.  \n",
      "\n",
      "### 9. **Celebration of the Sport’s Culture**  \n",
      "   - The event’s **nighttime setting** and crowd energy underscore mountain biking’s vibrant, community-driven culture, appealing to both participants and spectators.  \n",
      "\n",
      "In essence, the report captures the essence of competitive mountain biking—its athleticism, unpredictability, and global community—while advancing the narrative of a thrilling championship season.\n"
     ]
    }
   ],
   "source": [
    "# https://mljar.com/notebooks/openai-rag-in-python/\n",
    "\n",
    "# create a chat completion\n",
    "response = client.chat.completions.create(\n",
    "    model=\"qwen/qwq-32b:free\",\n",
    "    messages=[\n",
    "        {\"role\": \"system\", \"content\": \"you are helpful assistant\"},\n",
    "        {\"role\": \"assistant\", \"content\": rrf_results[0]},\n",
    "        {\"role\": \"user\", \"content\": \"Why is this relevant to mountain biking??\"},\n",
    "    ],\n",
    "    \n",
    ")\n",
    "\n",
    "# get and print response\n",
    "print(response.choices[0].message.content)"
   ]
  },
  {
   "cell_type": "code",
   "execution_count": null,
   "metadata": {},
   "outputs": [],
   "source": [
    "completion = client.chat.completions.create(\n",
    "  \n",
    "  extra_body={},\n",
    "  model=\"qwen/qwq-32b:free\",\n",
    "  messages=[\n",
    "    {\n",
    "      \"role\": \"user\",\n",
    "      \"content\": \"What is the meaning of life?\"\n",
    "    }\n",
    "  ]\n",
    ")\n",
    "print(completion.choices[0].message.content)"
   ]
  }
 ],
 "metadata": {
  "kernelspec": {
   "display_name": ".venv",
   "language": "python",
   "name": "python3"
  },
  "language_info": {
   "codemirror_mode": {
    "name": "ipython",
    "version": 3
   },
   "file_extension": ".py",
   "mimetype": "text/x-python",
   "name": "python",
   "nbconvert_exporter": "python",
   "pygments_lexer": "ipython3",
   "version": "3.12.4"
  }
 },
 "nbformat": 4,
 "nbformat_minor": 2
}
